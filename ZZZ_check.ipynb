{
 "cells": [
  {
   "cell_type": "code",
   "execution_count": null,
   "id": "6d5c1615",
   "metadata": {},
   "outputs": [],
   "source": [
    "import json \n",
    "import numpy as np \n",
    "import open3d as o3d\n",
    "from extract_context_teeth import extract_teeth_group_and_their_gums, mesh_to_pcd\n",
    "import os \n",
    "from glob import glob"
   ]
  },
  {
   "cell_type": "code",
   "execution_count": null,
   "id": "9fd7d1f4",
   "metadata": {},
   "outputs": [],
   "source": [
    "def extract_segments_from_json(json_file_path):\n",
    "    with open(json_file_path, 'r') as f:\n",
    "        data = json.load(f)\n",
    "    segments = []\n",
    "    for cell in data['cells']:\n",
    "        segments.append(cell['fdi'])\n",
    "    segments = np.array(segments)\n",
    "    return segments"
   ]
  },
  {
   "cell_type": "code",
   "execution_count": null,
   "id": "f94c7347",
   "metadata": {},
   "outputs": [],
   "source": [
    "segment = extract_segments_from_json(\"/home/shirshak/Teeth_3DS_data_preparation_for_reconstuction_and_generation/teeth_files_customer/pdf_19c_20220627_094427_ITERO(99778548)/pdf_19c_20220627_094427_ITERO(99778548)_0_PreparationScan.json\")"
   ]
  },
  {
   "cell_type": "code",
   "execution_count": null,
   "id": "6ce6be50",
   "metadata": {},
   "outputs": [],
   "source": [
    "file_names = sorted(glob(\"/home/shirshak/Teeth_3DS_data_preparation_for_reconstuction_and_generation/teeth_files_customer/*/*.ply\"))\n",
    "json_names = sorted(glob(\"/home/shirshak/Teeth_3DS_data_preparation_for_reconstuction_and_generation/teeth_files_customer/*/*.json\"))\n",
    "\n",
    "\n",
    "for file_name, json_name in zip(file_names, json_names):\n",
    "    # print(file_name)\n",
    "    # print(json_name)\n",
    "    print(\"-\"*80)"
   ]
  },
  {
   "cell_type": "markdown",
   "id": "fe6ef380",
   "metadata": {},
   "source": [
    "Data : https://drive.google.com/drive/folders/1G_nBVS--O9IzRudshAZ3aRwjXNYNZosP?usp=sharing"
   ]
  },
  {
   "cell_type": "code",
   "execution_count": null,
   "id": "d0fb1970",
   "metadata": {},
   "outputs": [],
   "source": [
    "# file_names = sorted(glob(\"/home/shirshak/Teeth_3DS_data_preparation_for_reconstuction_and_generation/teeth_files_customer/*/*.ply\"))\n",
    "# json_names = sorted(glob(\"/home/shirshak/Teeth_3DS_data_preparation_for_reconstuction_and_generation/teeth_files_customer/*/*.json\"))\n",
    "# for file_name, json_name in zip(file_names, json_names):\n",
    "\n",
    "\n",
    "file_name = \"/home/shirshak/Teeth_3DS_data_preparation_for_reconstuction_and_generation/teeth_files_customer/pdf_19c_20220627_094427_ITERO(99778548)/pdf_19c_20220627_094427_ITERO(99778548)_0_PreparationScan.ply\"\n",
    "json_name = \"/home/shirshak/Teeth_3DS_data_preparation_for_reconstuction_and_generation/teeth_files_customer/pdf_19c_20220627_094427_ITERO(99778548)/pdf_19c_20220627_094427_ITERO(99778548)_0_PreparationScan.json\"\n",
    "\n",
    "if \"Preparation\" in file_name:\n",
    "    segment = extract_segments_from_json(json_name)\n",
    "    label = \"master\"\n",
    "    mesh = o3d.io.read_triangle_mesh(file_name)\n",
    "    three_teeth_mesh, _, three_teeth_segments = extract_teeth_group_and_their_gums(mesh, segment, [35, 36, 37])\n",
    "    pcd_mesh, npy_mesh = mesh_to_pcd(three_teeth_mesh, num_points=4096)\n",
    "    os.makedirs(f\"outputs_client/{file_name.split('/')[-2]}\", exist_ok=True)\n",
    "    o3d.io.write_point_cloud(os.path.join(f\"outputs_client/{file_name.split('/')[-2]}\", f\"{file_name.split('/')[-2]}_{label}.pcd\"), pcd_mesh)\n",
    "\n",
    "    o3d.visualization.draw_plotly([three_teeth_mesh])\n",
    "    # o3d.io.write_triangle_mesh(f\"{file_name.split('/')[-2]}_{label}.ply\", three_teeth_mesh)\n",
    "\n",
    "\n",
    "\n",
    "file_name = \"/home/shirshak/Teeth_3DS_data_preparation_for_reconstuction_and_generation/teeth_files_customer/pdf_19c_20220627_094427_ITERO(99778548)/pdf_19c_20220627_094427_ITERO(99778548)_0-AntagonistScan.ply\"\n",
    "json_name = \"/home/shirshak/Teeth_3DS_data_preparation_for_reconstuction_and_generation/teeth_files_customer/pdf_19c_20220627_094427_ITERO(99778548)/pdf_19c_20220627_094427_ITERO(99778548)_0-AntagonistScan.json\"\n",
    "\n",
    "if \"Antagonist\" in file_name:\n",
    "    segment = extract_segments_from_json(json_name)\n",
    "    label = \"Antagonist\"\n",
    "    mesh = o3d.io.read_triangle_mesh(file_name)\n",
    "    three_teeth_mesh, _, three_teeth_segments = extract_teeth_group_and_their_gums(mesh, segment, [25, 26, 27])\n",
    "    pcd_mesh, npy_mesh = mesh_to_pcd(three_teeth_mesh, num_points=4096)\n",
    "    os.makedirs(f\"outputs_client/{file_name.split('/')[-2]}\", exist_ok=True)\n",
    "    o3d.io.write_point_cloud(os.path.join(f\"outputs_client/{file_name.split('/')[-2]}\", f\"{file_name.split('/')[-2]}_{label}.pcd\"), pcd_mesh)\n",
    "\n",
    "    o3d.visualization.draw_plotly([three_teeth_mesh])\n",
    "\n",
    "    # o3d.io.write_triangle_mesh(f\"{file_name.split('/')[-2]}_{label}.ply\", three_teeth_mesh)\n"
   ]
  },
  {
   "cell_type": "code",
   "execution_count": null,
   "id": "22804246",
   "metadata": {},
   "outputs": [],
   "source": [
    "file_name = \"/home/shirshak/Teeth_3DS_data_preparation_for_reconstuction_and_generation/teeth_files_customer/20240718_131056_ITERO(169483943)_3/lower_jaw_8.ply\"\n",
    "json_name = \"/home/shirshak/Teeth_3DS_data_preparation_for_reconstuction_and_generation/teeth_files_customer/20240718_131056_ITERO(169483943)_3/lower_jaw_8.json\"\n",
    "\n",
    "if \"lower\" in file_name:\n",
    "    segment = extract_segments_from_json(json_name)\n",
    "    label = \"master\"\n",
    "    mesh = o3d.io.read_triangle_mesh(file_name)\n",
    "    three_teeth_mesh, _, three_teeth_segments = extract_teeth_group_and_their_gums(mesh, segment, [36, 37, 38])\n",
    "    pcd_mesh, npy_mesh = mesh_to_pcd(three_teeth_mesh, num_points=4096)\n",
    "    os.makedirs(f\"outputs_client/{file_name.split('/')[-2]}\", exist_ok=True)\n",
    "    o3d.io.write_point_cloud(os.path.join(f\"outputs_client/{file_name.split('/')[-2]}\", f\"{file_name.split('/')[-2]}_{label}.pcd\"), pcd_mesh)\n",
    "\n",
    "    o3d.visualization.draw_plotly([three_teeth_mesh])\n",
    "\n",
    "\n",
    "file_name = \"/home/shirshak/Teeth_3DS_data_preparation_for_reconstuction_and_generation/teeth_files_customer/20240718_131056_ITERO(169483943)_3/upper_jaw_8.ply\"\n",
    "json_name = \"/home/shirshak/Teeth_3DS_data_preparation_for_reconstuction_and_generation/teeth_files_customer/20240718_131056_ITERO(169483943)_3/upper_jaw_8.json\"\n",
    "\n",
    "if \"upper\" in file_name:\n",
    "    segment = extract_segments_from_json(json_name)\n",
    "    label = \"Antagonist\"\n",
    "    mesh = o3d.io.read_triangle_mesh(file_name)\n",
    "    three_teeth_mesh, _, three_teeth_segments = extract_teeth_group_and_their_gums(mesh, segment, [26, 27, 28])\n",
    "    pcd_mesh, npy_mesh = mesh_to_pcd(three_teeth_mesh, num_points=4096)\n",
    "    os.makedirs(f\"outputs_client/{file_name.split('/')[-2]}\", exist_ok=True)\n",
    "    o3d.io.write_point_cloud(os.path.join(f\"outputs_client/{file_name.split('/')[-2]}\", f\"{file_name.split('/')[-2]}_{label}.pcd\"), pcd_mesh)\n",
    "\n",
    "    o3d.visualization.draw_plotly([three_teeth_mesh])"
   ]
  },
  {
   "cell_type": "code",
   "execution_count": null,
   "metadata": {},
   "outputs": [],
   "source": [
    "file_name = \"/home/shirshak/Teeth_3DS_data_preparation_for_reconstuction_and_generation/teeth_files_customer/20240718_132105_ITERO(169622609)_0/lower_jaw_9.ply\"\n",
    "json_name = \"/home/shirshak/Teeth_3DS_data_preparation_for_reconstuction_and_generation/teeth_files_customer/20240718_132105_ITERO(169622609)_0/lower_jaw_9.json\"\n",
    "\n",
    "\n",
    "if \"lower\" in file_name:\n",
    "    segment = extract_segments_from_json(json_name)\n",
    "    label = \"master\"\n",
    "    mesh = o3d.io.read_triangle_mesh(file_name)\n",
    "    three_teeth_mesh, _, three_teeth_segments = extract_teeth_group_and_their_gums(mesh, segment, [46, 47, 48])\n",
    "    pcd_mesh, npy_mesh = mesh_to_pcd(three_teeth_mesh, num_points=4096)\n",
    "    os.makedirs(f\"outputs_client/{file_name.split('/')[-2]}\", exist_ok=True)\n",
    "    o3d.io.write_point_cloud(os.path.join(f\"outputs_client/{file_name.split('/')[-2]}\", f\"{file_name.split('/')[-2]}_{label}.pcd\"), pcd_mesh)\n",
    "\n",
    "    o3d.visualization.draw_plotly([three_teeth_mesh])\n",
    "\n",
    "\n",
    "file_name = \"/home/shirshak/Teeth_3DS_data_preparation_for_reconstuction_and_generation/teeth_files_customer/20240718_132105_ITERO(169622609)_0/upper_jaw_9.ply\"\n",
    "json_name = \"/home/shirshak/Teeth_3DS_data_preparation_for_reconstuction_and_generation/teeth_files_customer/20240718_132105_ITERO(169622609)_0/upper_jaw_9.json\"\n",
    "\n",
    "if \"upper\" in file_name:\n",
    "    segment = extract_segments_from_json(json_name)\n",
    "    label = \"Antagonist\"\n",
    "    mesh = o3d.io.read_triangle_mesh(file_name)\n",
    "    three_teeth_mesh, _, three_teeth_segments = extract_teeth_group_and_their_gums(mesh, segment, [16, 17, 18])\n",
    "    pcd_mesh, npy_mesh = mesh_to_pcd(three_teeth_mesh, num_points=4096)\n",
    "    os.makedirs(f\"outputs_client/{file_name.split('/')[-2]}\", exist_ok=True)\n",
    "    o3d.io.write_point_cloud(os.path.join(f\"outputs_client/{file_name.split('/')[-2]}\", f\"{file_name.split('/')[-2]}_{label}.pcd\"), pcd_mesh)\n",
    "\n",
    "    o3d.visualization.draw_plotly([three_teeth_mesh])"
   ]
  },
  {
   "cell_type": "code",
   "execution_count": null,
   "metadata": {},
   "outputs": [],
   "source": []
  },
  {
   "cell_type": "code",
   "execution_count": null,
   "id": "9f420886",
   "metadata": {},
   "outputs": [],
   "source": [
    "files = sorted(glob(\"/home/shirshak/Teeth_3DS_data_preparation_for_reconstuction_and_generation/teeth_files_customer/crowns/*\"))\n",
    "\n",
    "crown_out_dir = \"/home/shirshak/Teeth_3DS_data_preparation_for_reconstuction_and_generation/outputs_client/crown_pcd\"\n",
    "os.makedirs(crown_out_dir, exist_ok=True)\n",
    "\n",
    "for file in files:\n",
    "    mesh = o3d.io.read_triangle_mesh(file)\n",
    "    pcd_mesh, _ = mesh_to_pcd(mesh, num_points=4096)\n",
    "\n",
    "    o3d.io.write_point_cloud(os.path.join(crown_out_dir, f\"{os.path.basename(file).split('.')[0]}_shell.pcd\"), pcd_mesh)"
   ]
  },
  {
   "cell_type": "code",
   "execution_count": null,
   "id": "a3cc0f22",
   "metadata": {},
   "outputs": [],
   "source": [
    "os.path.basename(files[0]).split('.')"
   ]
  },
  {
   "cell_type": "code",
   "execution_count": null,
   "metadata": {},
   "outputs": [],
   "source": []
  },
  {
   "cell_type": "code",
   "execution_count": null,
   "id": "8b60a78a",
   "metadata": {},
   "outputs": [],
   "source": []
  },
  {
   "cell_type": "code",
   "execution_count": null,
   "id": "80a7d80c",
   "metadata": {},
   "outputs": [],
   "source": []
  },
  {
   "cell_type": "code",
   "execution_count": null,
   "id": "7b293030",
   "metadata": {},
   "outputs": [],
   "source": []
  },
  {
   "cell_type": "code",
   "execution_count": null,
   "id": "0d01c40e",
   "metadata": {},
   "outputs": [],
   "source": []
  },
  {
   "cell_type": "code",
   "execution_count": null,
   "metadata": {},
   "outputs": [],
   "source": []
  },
  {
   "cell_type": "code",
   "execution_count": null,
   "metadata": {},
   "outputs": [],
   "source": []
  }
 ],
 "metadata": {
  "kernelspec": {
   "display_name": ".venv",
   "language": "python",
   "name": "python3"
  },
  "language_info": {
   "codemirror_mode": {
    "name": "ipython",
    "version": 3
   },
   "file_extension": ".py",
   "mimetype": "text/x-python",
   "name": "python",
   "nbconvert_exporter": "python",
   "pygments_lexer": "ipython3",
   "version": "3.10.12"
  }
 },
 "nbformat": 4,
 "nbformat_minor": 5
}
