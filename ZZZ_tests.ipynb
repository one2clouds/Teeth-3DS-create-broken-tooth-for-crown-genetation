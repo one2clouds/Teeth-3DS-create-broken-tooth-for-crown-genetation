{
 "cells": [
  {
   "cell_type": "code",
   "execution_count": null,
   "id": "3e57ba9e",
   "metadata": {},
   "outputs": [],
   "source": [
    "import os\n",
    "import open3d as o3d\n",
    "from pathlib import Path \n",
    "import glob \n",
    "from scipy.sparse import csr_matrix \n",
    "from scipy.sparse.csgraph import connected_components\n",
    "import numpy as np\n",
    "from scipy.spatial import Delaunay\n",
    "import copy\n",
    "from utils.jaw_classification import JawClassification\n",
    "from utils.segmentation import Segmentation\n",
    "from utils.bounding_box import get_bounding_boxes\n",
    "from utils.request_response_for_jaw_label_bounding_box_extraction import get_response\n",
    "\n",
    "from extract_context_teeth import extract_context_teeth_surface, extract_teeth_and_gums, extract_teeth_group_and_their_gums\n",
    "import glob \n",
    "from tqdm import tqdm "
   ]
  },
  {
   "cell_type": "code",
   "execution_count": null,
   "id": "e86126b4",
   "metadata": {},
   "outputs": [],
   "source": [
    "# file_name=\"teeth_files/test_big.ply\"\n",
    "# file_name.split(\"/\")[-1].split(\".\")[0]"
   ]
  },
  {
   "cell_type": "code",
   "execution_count": null,
   "id": "199a0fb1",
   "metadata": {},
   "outputs": [],
   "source": [
    "file_names = sorted(glob.glob(\"teeth_files_customer/*\"))"
   ]
  },
  {
   "cell_type": "code",
   "execution_count": null,
   "id": "13af18a5",
   "metadata": {},
   "outputs": [],
   "source": [
    "file_names[0]"
   ]
  },
  {
   "cell_type": "code",
   "execution_count": null,
   "id": "576f7793",
   "metadata": {},
   "outputs": [],
   "source": [
    "preparation_jaw = \"\"\n",
    "abutment_jaw = \"\""
   ]
  },
  {
   "cell_type": "code",
   "execution_count": null,
   "id": "1aa322f5",
   "metadata": {},
   "outputs": [],
   "source": [
    "for file_name in tqdm(file_names):\n",
    "    # print(file_name)\n",
    "    if \"upper\" in file_name:\n",
    "        extract_context_teeth_surface(file_name=file_name, three_teeth_segment_ids = [11, 12, 13], tooth_id_to_trim = 12, output_filename= file_name.split(\"/\")[-1].split(\".\")[0])\n",
    "        continue\n",
    "    extract_context_teeth_surface(file_name=file_name, three_teeth_segment_ids = [31, 32, 33], tooth_id_to_trim = 32, output_filename= file_name.split(\"/\")[-1].split(\".\")[0])"
   ]
  },
  {
   "cell_type": "code",
   "execution_count": null,
   "id": "e05cc0f3",
   "metadata": {},
   "outputs": [],
   "source": [
    "file_path_1 = \"/home/shirshak/Teeth_3DS_data_preparation_for_reconstuction_and_generation/outputs/DMC_GT/01A91JH6_lower.npy\"\n",
    "file_path_2 = \"/home/shirshak/Teeth_3DS_data_preparation_for_reconstuction_and_generation/outputs/DMC_input_context_surface/01A91JH6_lower.npy\"\n",
    "\n",
    "points_1 = np.load(file_path_1)\n",
    "points_2 = np.load(file_path_2)\n",
    "\n",
    "pcd = o3d.geometry.PointCloud()"
   ]
  },
  {
   "cell_type": "code",
   "execution_count": null,
   "id": "355b78b8",
   "metadata": {},
   "outputs": [],
   "source": [
    "pcd.points = o3d.utility.Vector3dVector(points_1)\n",
    "# o3d.io.write_point_cloud(os.path.join(f\"/home/shirshak/Teeth_3DS_data_preparation_for_reconstuction_and_generation/outputs/{file_path_1.split('/')[-2]}.pcd\"), pcd)"
   ]
  },
  {
   "cell_type": "code",
   "execution_count": null,
   "id": "38dcf63d",
   "metadata": {},
   "outputs": [],
   "source": [
    "# o3d.visualization.draw_geometries([pcd])\n",
    "print(f\"Number of PCD points : {len(pcd.points)}\")\n",
    "print(\" ---> Ground Truth Context Tooth Surface <--- \")\n",
    "black_colors = np.zeros((len(pcd.points), 3))\n",
    "pcd.colors = o3d.utility.Vector3dVector(black_colors)\n",
    "o3d.visualization.draw_plotly([pcd])"
   ]
  },
  {
   "cell_type": "code",
   "execution_count": null,
   "id": "29fd6db2",
   "metadata": {},
   "outputs": [],
   "source": [
    "pcd.points = o3d.utility.Vector3dVector(points_2)\n",
    "# o3d.io.write_point_cloud(os.path.join(f\"/home/shirshak/Teeth_3DS_data_preparation_for_reconstuction_and_generation/outputs/{file_path_2.split('/')[-2]}.pcd\"), pcd)"
   ]
  },
  {
   "cell_type": "code",
   "execution_count": null,
   "metadata": {},
   "outputs": [],
   "source": [
    "print(f\"Number of PCD points : {len(pcd.points)}\")\n",
    "print(\" ---> Input Context Tooth Surface <--- \")\n",
    "\n",
    "black_colors = np.zeros((len(pcd.points), 3))\n",
    "pcd.colors = o3d.utility.Vector3dVector(black_colors)\n",
    "o3d.visualization.draw_plotly([pcd])"
   ]
  },
  {
   "cell_type": "code",
   "execution_count": null,
   "metadata": {},
   "outputs": [],
   "source": []
  },
  {
   "cell_type": "code",
   "execution_count": null,
   "metadata": {},
   "outputs": [],
   "source": []
  }
 ],
 "metadata": {
  "kernelspec": {
   "display_name": ".venv",
   "language": "python",
   "name": "python3"
  },
  "language_info": {
   "codemirror_mode": {
    "name": "ipython",
    "version": 3
   },
   "file_extension": ".py",
   "mimetype": "text/x-python",
   "name": "python",
   "nbconvert_exporter": "python",
   "pygments_lexer": "ipython3",
   "version": "3.10.12"
  }
 },
 "nbformat": 4,
 "nbformat_minor": 5
}
