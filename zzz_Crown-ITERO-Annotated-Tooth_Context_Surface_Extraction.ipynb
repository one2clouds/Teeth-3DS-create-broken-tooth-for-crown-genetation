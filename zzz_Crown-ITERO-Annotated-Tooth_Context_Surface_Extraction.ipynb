{
 "cells": [
  {
   "cell_type": "code",
   "execution_count": 7,
   "id": "aaef87f6",
   "metadata": {},
   "outputs": [],
   "source": [
    "import json \n",
    "import numpy as np \n",
    "import open3d as o3d\n",
    "from extract_context_teeth import extract_teeth_group_and_their_gums, mesh_to_pcd\n",
    "import os \n",
    "from glob import glob\n",
    "import re"
   ]
  },
  {
   "cell_type": "code",
   "execution_count": 2,
   "id": "b18d1f4c",
   "metadata": {},
   "outputs": [],
   "source": [
    "def extract_segments_from_json(json_file_path):\n",
    "    with open(json_file_path, 'r') as f:\n",
    "        data = json.load(f)\n",
    "    segments = []\n",
    "    for cell in data['cells']:\n",
    "        segments.append(cell['fdi'])\n",
    "    segments = np.array(segments)\n",
    "    try:\n",
    "        abutment_teeth = data[\"abutment_teeth\"]\n",
    "    except KeyError:\n",
    "        abutment_teeth = None\n",
    "        print(f\"Warning: No 'abutment_teeth' key in {json_file_path}\")\n",
    "\n",
    "    return segments, abutment_teeth"
   ]
  },
  {
   "cell_type": "code",
   "execution_count": 3,
   "id": "727f4966",
   "metadata": {},
   "outputs": [
    {
     "data": {
      "text/plain": [
       "[36]"
      ]
     },
     "execution_count": 3,
     "metadata": {},
     "output_type": "execute_result"
    }
   ],
   "source": [
    "with open(\"/home/shirshak/Teeth_3DS_data_preparation_for_reconstuction_and_generation/CROWN-ITERO-ANNOTATED-TOOTH/json/CROWN-ITERO-pdf_19c_20220627_094427_ITERO(99778548)_0_PreparationScan.json\", 'r') as f:\n",
    "    data = json.load(f)\n",
    "\n",
    "data[\"abutment_teeth\"]"
   ]
  },
  {
   "cell_type": "code",
   "execution_count": 4,
   "id": "68b1e214",
   "metadata": {},
   "outputs": [],
   "source": [
    "# ply_names = sorted(glob(\"/home/shirshak/Teeth_3DS_data_preparation_for_reconstuction_and_generation/CROWN-ITERO-ANNOTATED-TOOTH/ply/*.ply\"))\n",
    "# json_names = sorted(glob(\"/home/shirshak/Teeth_3DS_data_preparation_for_reconstuction_and_generation/CROWN-ITERO-ANNOTATED-TOOTH/json/*.json\"))\n",
    "\n",
    "# for ply_name, json_name in zip(ply_names, json_names):\n",
    "#     print(re.search(r\"CROWN-ITERO-(.+?)_(?:Antagonist|Preparation)Scan\", ply_name).group(1))"
   ]
  },
  {
   "cell_type": "code",
   "execution_count": 5,
   "id": "5a590f7b",
   "metadata": {},
   "outputs": [],
   "source": [
    "ply_names = sorted(glob(\"/home/shirshak/Teeth_3DS_data_preparation_for_reconstuction_and_generation/CROWN-ITERO-ANNOTATED-TOOTH/ply/*.ply\"))\n",
    "json_names = sorted(glob(\"/home/shirshak/Teeth_3DS_data_preparation_for_reconstuction_and_generation/CROWN-ITERO-ANNOTATED-TOOTH/json/*.json\"))\n",
    "\n",
    "elements = []\n",
    "for ply_name, json_name in zip(ply_names, json_names):\n",
    "    # print(ply_name)\n",
    "    # print(json_name)\n",
    "    segment, abutment_teeth = extract_segments_from_json(json_name)\n",
    "    if abutment_teeth:\n",
    "        # print(json_name)\n",
    "        # print(abutment_teeth)\n",
    "        # print(\"-\"*80)\n",
    "        elements.append(abutment_teeth[0])"
   ]
  },
  {
   "cell_type": "code",
   "execution_count": 6,
   "id": "ddf7c06a",
   "metadata": {},
   "outputs": [
    {
     "data": {
      "text/plain": [
       "[36, 36, 37, 37, 36, 46, 35, 46, 44, 46, 36, 36, 37, 47, 36, 32]"
      ]
     },
     "execution_count": 6,
     "metadata": {},
     "output_type": "execute_result"
    }
   ],
   "source": [
    "elements"
   ]
  },
  {
   "cell_type": "code",
   "execution_count": 7,
   "id": "69515ed2",
   "metadata": {},
   "outputs": [
    {
     "data": {
      "text/plain": [
       "{32, 35, 36, 37, 44, 46, 47}"
      ]
     },
     "execution_count": 7,
     "metadata": {},
     "output_type": "execute_result"
    }
   ],
   "source": [
    "set(elements)"
   ]
  },
  {
   "cell_type": "code",
   "execution_count": 8,
   "id": "7307c4d3",
   "metadata": {},
   "outputs": [],
   "source": [
    "# Why instead of just one neighbor, we try to keep instances for two neighbors, it is because for example we want to extract left neighbor of tooth 36(molar), it is 35(premolar) but in edge case some people wouldn't have two premolar, and only one premolar(34 or 35)\n",
    "# In such case we take backup teeth 35 which is its nearest left neighbor \n",
    "\n",
    "abut_context_teeth_dict_ = {\n",
    "    \"abutment_teeth\":[\"Left_Neighbor\", \"Abutment Teeth\" ,\"Right_Neighbor\", \"Left_Antagonist\", \"Middle_Antagonist\", \"Right_Antagonist\"],\n",
    "    32: [[31,41], [32], [33,34], [21,11], [22], [23,24]], \n",
    "    35: [[34,33], [35], [36,37], [24,23], [25], [26,27]],\n",
    "    36: [[35,34], [36], [37,38], [25,24], [26], [27,28]],\n",
    "    37: [[36,35], [37], [38], [26,25], [27], [28]],\n",
    "\n",
    "    44: [[45,46], [44], [43,42], [15,16], [14], [13,12]],\n",
    "    46: [[47,48], [46], [45,44], [17, 18], [16], [15, 14]],\n",
    "    47: [[48], [47], [46,45], [18], [17], [16,15]],\n",
    "}"
   ]
  },
  {
   "cell_type": "code",
   "execution_count": 9,
   "id": "2ccbe3fd",
   "metadata": {},
   "outputs": [],
   "source": [
    "def extract_highest_priority(tooth_number, available_teeth, abut_dict):\n",
    "    result = []\n",
    "    for group in abut_dict[tooth_number]:\n",
    "        selected = None\n",
    "        for candidate in group:\n",
    "            if candidate in available_teeth:\n",
    "                selected = candidate\n",
    "                break  # stop at the first match (highest priority)\n",
    "        if selected is not None:\n",
    "            result.append(selected)\n",
    "    return result"
   ]
  },
  {
   "cell_type": "code",
   "execution_count": 10,
   "id": "6123de7a",
   "metadata": {},
   "outputs": [
    {
     "data": {
      "text/plain": [
       "[31, 32, 33]"
      ]
     },
     "execution_count": 10,
     "metadata": {},
     "output_type": "execute_result"
    }
   ],
   "source": [
    "available_teeth = np.unique(segment)\n",
    "\n",
    "target_segment_ids = extract_highest_priority(abutment_teeth[0], available_teeth, abut_context_teeth_dict_)\n",
    "target_segment_ids"
   ]
  },
  {
   "cell_type": "code",
   "execution_count": 11,
   "id": "25d4a476",
   "metadata": {},
   "outputs": [
    {
     "data": {
      "text/plain": [
       "[31, 32, 33]"
      ]
     },
     "execution_count": 11,
     "metadata": {},
     "output_type": "execute_result"
    }
   ],
   "source": [
    "target_segment_ids"
   ]
  },
  {
   "cell_type": "code",
   "execution_count": 12,
   "id": "fcbf2ead",
   "metadata": {},
   "outputs": [
    {
     "name": "stdout",
     "output_type": "stream",
     "text": [
      "[[35, 34], [36], [37, 38], [25, 24], [26], [27, 28]]\n",
      "Original mesh: 77813 vertices, 151777 triangles\n",
      "Found 3 connected components\n",
      "Component sizes (triangles): [  154 57587 94036]\n",
      "Keeping 2 components with >= 5290 triangles\n",
      "Cleaned mesh: 77686 vertices, 151623 triangles\n",
      "outputs-CROWN-ITERO-ANNOTATED/20240711_120128_ITERO(168624533)_0/20240711_120128_ITERO(168624533)_0_master.pcd\n",
      "Original mesh: 31576 vertices, 62508 triangles\n",
      "Found 1 connected components\n",
      "Component sizes (triangles): [62508]\n",
      "Keeping 1 components with >= 5290 triangles\n",
      "Cleaned mesh: 31576 vertices, 62508 triangles\n",
      "outputs-CROWN-ITERO-ANNOTATED/20240711_120128_ITERO(168624533)_0/20240711_120128_ITERO(168624533)_0_Antagonist.pcd\n",
      "[[35, 34], [36], [37, 38], [25, 24], [26], [27, 28]]\n",
      "Original mesh: 68032 vertices, 131934 triangles\n",
      "Found 6 connected components\n",
      "Component sizes (triangles): [  520   223   317 50549 80144   181]\n",
      "Keeping 2 components with >= 5290 triangles\n",
      "Cleaned mesh: 67055 vertices, 130693 triangles\n",
      "outputs-CROWN-ITERO-ANNOTATED/20240715_140451_ITERO(169070716)_0/20240715_140451_ITERO(169070716)_0_master.pcd\n",
      "Original mesh: 29456 vertices, 58240 triangles\n",
      "Found 1 connected components\n",
      "Component sizes (triangles): [58240]\n",
      "Keeping 1 components with >= 5290 triangles\n",
      "Cleaned mesh: 29456 vertices, 58240 triangles\n",
      "outputs-CROWN-ITERO-ANNOTATED/20240715_140451_ITERO(169070716)_0/20240715_140451_ITERO(169070716)_0_Antagonist.pcd\n",
      "[[36, 35], [37], [38], [26, 25], [27], [28]]\n",
      "Original mesh: 52563 vertices, 100437 triangles\n",
      "Found 3 connected components\n",
      "Component sizes (triangles): [  191 31939 68307]\n",
      "Keeping 2 components with >= 5290 triangles\n",
      "Cleaned mesh: 52395 vertices, 100246 triangles\n",
      "outputs-CROWN-ITERO-ANNOTATED/20240717_111117_ITERO(169443780)_0/20240717_111117_ITERO(169443780)_0_master.pcd\n",
      "Original mesh: 20695 vertices, 40824 triangles\n",
      "Found 1 connected components\n",
      "Component sizes (triangles): [40824]\n",
      "Keeping 1 components with >= 5290 triangles\n",
      "Cleaned mesh: 20695 vertices, 40824 triangles\n",
      "outputs-CROWN-ITERO-ANNOTATED/20240717_111117_ITERO(169443780)_0/20240717_111117_ITERO(169443780)_0_Antagonist.pcd\n",
      "[[36, 35], [37], [38], [26, 25], [27], [28]]\n",
      "Original mesh: 51961 vertices, 99954 triangles\n",
      "Found 4 connected components\n",
      "Component sizes (triangles): [53033 41273  5179   469]\n",
      "Keeping 2 components with >= 5290 triangles\n",
      "Cleaned mesh: 48082 vertices, 94306 triangles\n",
      "outputs-CROWN-ITERO-ANNOTATED/20240718_130347_ITERO(169494014)_3/20240718_130347_ITERO(169494014)_3_master.pcd\n",
      "Original mesh: 20302 vertices, 40078 triangles\n",
      "Found 1 connected components\n",
      "Component sizes (triangles): [40078]\n",
      "Keeping 1 components with >= 5290 triangles\n",
      "Cleaned mesh: 20302 vertices, 40078 triangles\n",
      "outputs-CROWN-ITERO-ANNOTATED/20240718_130347_ITERO(169494014)_3/20240718_130347_ITERO(169494014)_3_Antagonist.pcd\n",
      "[[35, 34], [36], [37, 38], [25, 24], [26], [27, 28]]\n",
      "Original mesh: 64306 vertices, 125230 triangles\n",
      "Found 3 connected components\n",
      "Component sizes (triangles): [49006 72341  3883]\n",
      "Keeping 2 components with >= 5290 triangles\n",
      "Cleaned mesh: 61705 vertices, 121347 triangles\n",
      "outputs-CROWN-ITERO-ANNOTATED/20240718_131056_ITERO(169483943)_3/20240718_131056_ITERO(169483943)_3_master.pcd\n",
      "Original mesh: 31614 vertices, 62474 triangles\n",
      "Found 1 connected components\n",
      "Component sizes (triangles): [62474]\n",
      "Keeping 1 components with >= 5290 triangles\n",
      "Cleaned mesh: 31614 vertices, 62474 triangles\n",
      "outputs-CROWN-ITERO-ANNOTATED/20240718_131056_ITERO(169483943)_3/20240718_131056_ITERO(169483943)_3_Antagonist.pcd\n",
      "[[47, 48], [46], [45, 44], [17, 18], [16], [15, 14]]\n",
      "Original mesh: 56683 vertices, 110028 triangles\n",
      "Found 2 connected components\n",
      "Component sizes (triangles): [37350 72678]\n",
      "Keeping 2 components with >= 5290 triangles\n",
      "Cleaned mesh: 56683 vertices, 110028 triangles\n",
      "outputs-CROWN-ITERO-ANNOTATED/20240718_132105_ITERO(169622609)_0/20240718_132105_ITERO(169622609)_0_master.pcd\n",
      "Original mesh: 41203 vertices, 81695 triangles\n",
      "Found 1 connected components\n",
      "Component sizes (triangles): [81695]\n",
      "Keeping 1 components with >= 5290 triangles\n",
      "Cleaned mesh: 41203 vertices, 81695 triangles\n",
      "outputs-CROWN-ITERO-ANNOTATED/20240718_132105_ITERO(169622609)_0/20240718_132105_ITERO(169622609)_0_Antagonist.pcd\n",
      "[[34, 33], [35], [36, 37], [24, 23], [25], [26, 27]]\n",
      "Original mesh: 57491 vertices, 108928 triangles\n",
      "Found 6 connected components\n",
      "Component sizes (triangles): [  569   704 34846 64946  7080   783]\n",
      "Keeping 3 components with >= 5290 triangles\n",
      "Cleaned mesh: 55941 vertices, 106872 triangles\n",
      "outputs-CROWN-ITERO-ANNOTATED/20241105_111105_ITERO(179977049)/20241105_111105_ITERO(179977049)_master.pcd\n",
      "Original mesh: 36811 vertices, 72841 triangles\n",
      "Found 1 connected components\n",
      "Component sizes (triangles): [72841]\n",
      "Keeping 1 components with >= 5290 triangles\n",
      "Cleaned mesh: 36811 vertices, 72841 triangles\n",
      "outputs-CROWN-ITERO-ANNOTATED/20241105_111105_ITERO(179977049)/20241105_111105_ITERO(179977049)_Antagonist.pcd\n",
      "[[47, 48], [46], [45, 44], [17, 18], [16], [15, 14]]\n",
      "Original mesh: 72383 vertices, 140292 triangles\n",
      "Found 7 connected components\n",
      "Component sizes (triangles): [  123  1061   204   186 49316 89295   107]\n",
      "Keeping 2 components with >= 5290 triangles\n",
      "Cleaned mesh: 71176 vertices, 138611 triangles\n",
      "outputs-CROWN-ITERO-ANNOTATED/20241106_113904_ITERO(179999810) 3/20241106_113904_ITERO(179999810) 3_master.pcd\n",
      "Original mesh: 29951 vertices, 59272 triangles\n",
      "Found 1 connected components\n",
      "Component sizes (triangles): [59272]\n",
      "Keeping 1 components with >= 5290 triangles\n",
      "Cleaned mesh: 29951 vertices, 59272 triangles\n",
      "outputs-CROWN-ITERO-ANNOTATED/20241106_113904_ITERO(179999810) 3/20241106_113904_ITERO(179999810) 3_Antagonist.pcd\n",
      "[[45, 46], [44], [43, 42], [15, 16], [14], [13, 12]]\n",
      "Original mesh: 61855 vertices, 119966 triangles\n",
      "Found 4 connected components\n",
      "Component sizes (triangles): [  203 43395 76194   174]\n",
      "Keeping 2 components with >= 5290 triangles\n",
      "Cleaned mesh: 61589 vertices, 119589 triangles\n",
      "outputs-CROWN-ITERO-ANNOTATED/20241122_130636_ITERO(224759614) 3/20241122_130636_ITERO(224759614) 3_master.pcd\n",
      "Original mesh: 30148 vertices, 59572 triangles\n",
      "Found 1 connected components\n",
      "Component sizes (triangles): [59572]\n",
      "Keeping 1 components with >= 5290 triangles\n",
      "Cleaned mesh: 30148 vertices, 59572 triangles\n",
      "outputs-CROWN-ITERO-ANNOTATED/20241122_130636_ITERO(224759614) 3/20241122_130636_ITERO(224759614) 3_Antagonist.pcd\n",
      "[[47, 48], [46], [45, 44], [17, 18], [16], [15, 14]]\n",
      "Original mesh: 100000 vertices, 196716 triangles\n",
      "Found 2 connected components\n",
      "Component sizes (triangles): [ 85113 111603]\n",
      "Keeping 2 components with >= 5290 triangles\n",
      "Cleaned mesh: 100000 vertices, 196716 triangles\n",
      "outputs-CROWN-ITERO-ANNOTATED/pdf_14c_20220629_102535_ITERO(100016728)/pdf_14c_20220629_102535_ITERO(100016728)_master.pcd\n",
      "Original mesh: 28254 vertices, 55856 triangles\n",
      "Found 1 connected components\n",
      "Component sizes (triangles): [55856]\n",
      "Keeping 1 components with >= 5290 triangles\n",
      "Cleaned mesh: 28254 vertices, 55856 triangles\n",
      "outputs-CROWN-ITERO-ANNOTATED/pdf_14c_20220629_102535_ITERO(100016728)/pdf_14c_20220629_102535_ITERO(100016728)_Antagonist.pcd\n",
      "[[35, 34], [36], [37, 38], [25, 24], [26], [27, 28]]\n",
      "Original mesh: 66677 vertices, 131322 triangles\n",
      "Found 2 connected components\n",
      "Component sizes (triangles): [69654 61668]\n",
      "Keeping 2 components with >= 5290 triangles\n",
      "Cleaned mesh: 66677 vertices, 131322 triangles\n",
      "outputs-CROWN-ITERO-ANNOTATED/pdf_19c_20220627_090412_ITERO(99705333)_0/pdf_19c_20220627_090412_ITERO(99705333)_0_master.pcd\n",
      "Original mesh: 28892 vertices, 57184 triangles\n",
      "Found 1 connected components\n",
      "Component sizes (triangles): [57184]\n",
      "Keeping 1 components with >= 5290 triangles\n",
      "Cleaned mesh: 28892 vertices, 57184 triangles\n",
      "outputs-CROWN-ITERO-ANNOTATED/pdf_19c_20220627_090412_ITERO(99705333)_0/pdf_19c_20220627_090412_ITERO(99705333)_0_Antagonist.pcd\n",
      "[[35, 34], [36], [37, 38], [25, 24], [26], [27, 28]]\n",
      "Original mesh: 66541 vertices, 130868 triangles\n",
      "Found 2 connected components\n",
      "Component sizes (triangles): [56378 74490]\n",
      "Keeping 2 components with >= 5290 triangles\n",
      "Cleaned mesh: 66541 vertices, 130868 triangles\n",
      "outputs-CROWN-ITERO-ANNOTATED/pdf_19c_20220627_094427_ITERO(99778548)_0/pdf_19c_20220627_094427_ITERO(99778548)_0_master.pcd\n",
      "Original mesh: 33991 vertices, 67320 triangles\n",
      "Found 1 connected components\n",
      "Component sizes (triangles): [67320]\n",
      "Keeping 1 components with >= 5290 triangles\n",
      "Cleaned mesh: 33991 vertices, 67320 triangles\n",
      "outputs-CROWN-ITERO-ANNOTATED/pdf_19c_20220627_094427_ITERO(99778548)_0/pdf_19c_20220627_094427_ITERO(99778548)_0_Antagonist.pcd\n",
      "[[36, 35], [37], [38], [26, 25], [27], [28]]\n",
      "Original mesh: 39896 vertices, 78006 triangles\n",
      "Found 3 connected components\n",
      "Component sizes (triangles): [35364 38960  3682]\n",
      "Keeping 2 components with >= 5290 triangles\n",
      "Cleaned mesh: 37910 vertices, 74324 triangles\n",
      "outputs-CROWN-ITERO-ANNOTATED/pdf_2c_20220629_084758_ITERO(100008941)_0/pdf_2c_20220629_084758_ITERO(100008941)_0_master.pcd\n",
      "Original mesh: 25211 vertices, 49810 triangles\n",
      "Found 1 connected components\n",
      "Component sizes (triangles): [49810]\n",
      "Keeping 1 components with >= 5290 triangles\n",
      "Cleaned mesh: 25211 vertices, 49810 triangles\n",
      "outputs-CROWN-ITERO-ANNOTATED/pdf_2c_20220629_084758_ITERO(100008941)_0/pdf_2c_20220629_084758_ITERO(100008941)_0_Antagonist.pcd\n",
      "[[48], [47], [46, 45], [18], [17], [16, 15]]\n",
      "Original mesh: 95060 vertices, 187321 triangles\n",
      "Found 3 connected components\n",
      "Component sizes (triangles): [ 78335   4941 104045]\n",
      "Keeping 2 components with >= 5290 triangles\n",
      "Cleaned mesh: 92425 vertices, 182380 triangles\n",
      "outputs-CROWN-ITERO-ANNOTATED/pdf_31c_20220628_095036_ITERO(99929357)/pdf_31c_20220628_095036_ITERO(99929357)_master.pcd\n",
      "Original mesh: 21506 vertices, 42447 triangles\n",
      "Found 1 connected components\n",
      "Component sizes (triangles): [42447]\n",
      "Keeping 1 components with >= 5290 triangles\n",
      "Cleaned mesh: 21506 vertices, 42447 triangles\n",
      "outputs-CROWN-ITERO-ANNOTATED/pdf_31c_20220628_095036_ITERO(99929357)/pdf_31c_20220628_095036_ITERO(99929357)_Antagonist.pcd\n",
      "[[35, 34], [36], [37, 38], [25, 24], [26], [27, 28]]\n",
      "Original mesh: 74146 vertices, 145747 triangles\n",
      "Found 2 connected components\n",
      "Component sizes (triangles): [71350 74397]\n",
      "Keeping 2 components with >= 5290 triangles\n",
      "Cleaned mesh: 74146 vertices, 145747 triangles\n",
      "outputs-CROWN-ITERO-ANNOTATED/pdf_3c_20220629_060907_ITERO(99972480)/pdf_3c_20220629_060907_ITERO(99972480)_master.pcd\n",
      "Original mesh: 34812 vertices, 68981 triangles\n",
      "Found 1 connected components\n",
      "Component sizes (triangles): [68981]\n",
      "Keeping 1 components with >= 5290 triangles\n",
      "Cleaned mesh: 34812 vertices, 68981 triangles\n",
      "outputs-CROWN-ITERO-ANNOTATED/pdf_3c_20220629_060907_ITERO(99972480)/pdf_3c_20220629_060907_ITERO(99972480)_Antagonist.pcd\n",
      "[[31, 41], [32], [33, 34], [21, 11], [22], [23, 24]]\n",
      "Original mesh: 51716 vertices, 101983 triangles\n",
      "Found 2 connected components\n",
      "Component sizes (triangles): [21424 80559]\n",
      "Keeping 2 components with >= 5290 triangles\n",
      "Cleaned mesh: 51716 vertices, 101983 triangles\n",
      "outputs-CROWN-ITERO-ANNOTATED/pdf_7c_20220627_080351_ITERO(99760469)_0/pdf_7c_20220627_080351_ITERO(99760469)_0_master.pcd\n",
      "Original mesh: 21752 vertices, 42914 triangles\n",
      "Found 1 connected components\n",
      "Component sizes (triangles): [42914]\n",
      "Keeping 1 components with >= 5290 triangles\n",
      "Cleaned mesh: 21752 vertices, 42914 triangles\n",
      "outputs-CROWN-ITERO-ANNOTATED/pdf_7c_20220627_080351_ITERO(99760469)_0/pdf_7c_20220627_080351_ITERO(99760469)_0_Antagonist.pcd\n"
     ]
    }
   ],
   "source": [
    "ply_names = sorted(glob(\"/home/shirshak/Teeth_3DS_data_preparation_for_reconstuction_and_generation/CROWN-ITERO-ANNOTATED-TOOTH/ply/*.ply\"))\n",
    "json_names = sorted(glob(\"/home/shirshak/Teeth_3DS_data_preparation_for_reconstuction_and_generation/CROWN-ITERO-ANNOTATED-TOOTH/json/*.json\"))\n",
    "\n",
    "elements = []\n",
    "for ply_name, json_name in zip(ply_names, json_names):\n",
    "    # print(ply_name)\n",
    "    # print(json_name)\n",
    "    segment, abutment_teeth = extract_segments_from_json(json_name)\n",
    "    if abutment_teeth:\n",
    "        # print(json_name)\n",
    "        # print(abutment_teeth)\n",
    "        # print(\"-\"*80)\n",
    "        # elements.append(abutment_teeth[0])\n",
    "\n",
    "\n",
    "        print(abut_context_teeth_dict_[abutment_teeth[0]])\n",
    "\n",
    "        label = \"master\"\n",
    "        mesh = o3d.io.read_triangle_mesh(ply_name)\n",
    "\n",
    "\n",
    "\n",
    "        available_teeth = np.unique(segment) # A SET OF AVAILABLE LABELS WHICH WE HAVE TO CHOOSE FROM \n",
    "\n",
    "        target_segment_ids = extract_highest_priority(abutment_teeth[0], available_teeth, abut_context_teeth_dict_)\n",
    "\n",
    "\n",
    "        three_teeth_mesh, _, three_teeth_segments = extract_teeth_group_and_their_gums(mesh, segment, target_segment_ids)\n",
    "        pcd_mesh, npy_mesh = mesh_to_pcd(three_teeth_mesh, num_points=4096)\n",
    "\n",
    "        unique_customer_id = re.search(r\"CROWN-ITERO-(.+?)_(?:Antagonist|Preparation)Scan\", os.path.basename(ply_name)).group(1)\n",
    "\n",
    "        os.makedirs(f\"outputs-CROWN-ITERO-ANNOTATED/{unique_customer_id}\", exist_ok=True)\n",
    "        \n",
    "        print(os.path.join(f\"outputs-CROWN-ITERO-ANNOTATED/{unique_customer_id}\", f\"{unique_customer_id}_{label}.pcd\"))\n",
    "        o3d.io.write_point_cloud(os.path.join(f\"outputs-CROWN-ITERO-ANNOTATED/{unique_customer_id}\", f\"{unique_customer_id}_{label}.pcd\"), pcd_mesh)\n",
    "\n",
    "\n",
    "        base_ply_name = os.path.basename(ply_name)\n",
    "        base_json_name = os.path.basename(json_name)\n",
    "\n",
    "\n",
    "        if \"Antagonist\" in ply_name:\n",
    "            new_ply_name = os.path.join(os.path.dirname(ply_name), base_ply_name.replace(\"Antagonist\", \"Preparation\"))\n",
    "            new_json_name = os.path.join(os.path.dirname(json_name), base_json_name.replace(\"Antagonist\", \"Preparation\"))\n",
    "\n",
    "\n",
    "        elif \"Preparation\" in ply_name:\n",
    "            new_ply_name = os.path.join(os.path.dirname(ply_name), base_ply_name.replace(\"Preparation\", \"Antagonist\"))\n",
    "            new_json_name = os.path.join(os.path.dirname(json_name), base_json_name.replace(\"Preparation\", \"Antagonist\"))\n",
    "\n",
    "\n",
    "        # Name -> Antagonist just means the opposite jaw of the preparation tooth \n",
    "        segment, _ = extract_segments_from_json(new_json_name)\n",
    "        label = \"Antagonist\"\n",
    "        mesh = o3d.io.read_triangle_mesh(new_ply_name)\n",
    "\n",
    "\n",
    "        available_teeth = np.unique(segment) # A SET OF AVAILABLE LABELS WHICH WE HAVE TO CHOOSE FROM \n",
    "\n",
    "        target_segment_ids = extract_highest_priority(abutment_teeth[0], available_teeth, abut_context_teeth_dict_)\n",
    "\n",
    "        three_teeth_mesh, _, three_teeth_segments = extract_teeth_group_and_their_gums(mesh, segment, target_segment_ids)\n",
    "        pcd_mesh, npy_mesh = mesh_to_pcd(three_teeth_mesh, num_points=4096)\n",
    "\n",
    "        # unique_customer_id = re.search(r\"CROWN-ITERO-(.+?)_(?:Antagonist|Preparation)Scan\", os.path.basename(new_ply_name)).group(1)\n",
    "\n",
    "        os.makedirs(f\"outputs-CROWN-ITERO-ANNOTATED/{unique_customer_id}\", exist_ok=True)\n",
    "        print(os.path.join(f\"outputs-CROWN-ITERO-ANNOTATED/{unique_customer_id}\", f\"{unique_customer_id}_{label}.pcd\"))    \n",
    "        o3d.io.write_point_cloud(os.path.join(f\"outputs-CROWN-ITERO-ANNOTATED/{unique_customer_id}\", f\"{unique_customer_id}_{label}.pcd\"), pcd_mesh)\n"
   ]
  },
  {
   "cell_type": "code",
   "execution_count": 13,
   "id": "3db15dc8",
   "metadata": {},
   "outputs": [],
   "source": [
    "# set(elements)"
   ]
  },
  {
   "cell_type": "code",
   "execution_count": null,
   "id": "3457760b",
   "metadata": {},
   "outputs": [],
   "source": []
  },
  {
   "cell_type": "markdown",
   "id": "cb975cc3",
   "metadata": {},
   "source": [
    "### For PCD Extraction of ITERO-Crown ONLY "
   ]
  },
  {
   "cell_type": "code",
   "execution_count": 8,
   "id": "d3968c26",
   "metadata": {},
   "outputs": [
    {
     "name": "stdout",
     "output_type": "stream",
     "text": [
      "20240711_120128_ITERO(168624533)_0\n",
      "/home/shirshak/Teeth_3DS_data_preparation_for_reconstuction_and_generation/outputs-CROWN-ITERO-ANNOTATED/20240711_120128_ITERO(168624533)_0/\n"
     ]
    }
   ],
   "source": [
    "ply_dir_names = sorted(glob(\"/home/shirshak/Teeth_3DS_data_preparation_for_reconstuction_and_generation/outputs-CROWN-ITERO-ANNOTATED/*/\"))\n",
    "\n",
    "print(ply_dir_names[0].split('/')[-2])\n",
    "print(ply_dir_names[0])"
   ]
  },
  {
   "cell_type": "code",
   "execution_count": 9,
   "id": "eafff127",
   "metadata": {},
   "outputs": [
    {
     "data": {
      "text/plain": [
       "['/home/shirshak/Teeth_3DS_data_preparation_for_reconstuction_and_generation/Crown-Only-ITERO/20240711_120128_ITERO(168624533)_0/20240711_120128_ITERO(168624533) 0.stl',\n",
       " '/home/shirshak/Teeth_3DS_data_preparation_for_reconstuction_and_generation/Crown-Only-ITERO/20240715_140451_ITERO(169070716)_0/20240715_140451_ITERO(169070716) 0.stl',\n",
       " '/home/shirshak/Teeth_3DS_data_preparation_for_reconstuction_and_generation/Crown-Only-ITERO/20240717_111117_ITERO(169443780)_0/20240717_111117_ITERO(169443780) 0.stl',\n",
       " '/home/shirshak/Teeth_3DS_data_preparation_for_reconstuction_and_generation/Crown-Only-ITERO/20240718_130347_ITERO(169494014)_3/20240718_130347_ITERO(169494014) 3.stl',\n",
       " '/home/shirshak/Teeth_3DS_data_preparation_for_reconstuction_and_generation/Crown-Only-ITERO/20240718_131056_ITERO(169483943)_3/20240718_131056_ITERO(169483943) 3.stl',\n",
       " '/home/shirshak/Teeth_3DS_data_preparation_for_reconstuction_and_generation/Crown-Only-ITERO/20240718_132105_ITERO(169622609)_0/20240718_132105_ITERO(169622609) 0.stl',\n",
       " '/home/shirshak/Teeth_3DS_data_preparation_for_reconstuction_and_generation/Crown-Only-ITERO/20241105_111105_ITERO(179977049)/20241105_111105_ITERO(179977049) 0.stl',\n",
       " '/home/shirshak/Teeth_3DS_data_preparation_for_reconstuction_and_generation/Crown-Only-ITERO/20241106_113904_ITERO(179999810) 3/20241106_113904_ITERO(179999810) 3.stl',\n",
       " '/home/shirshak/Teeth_3DS_data_preparation_for_reconstuction_and_generation/Crown-Only-ITERO/20241122_130636_ITERO(224759614) 3/20241122_130636_ITERO(224759614) 3.stl',\n",
       " '/home/shirshak/Teeth_3DS_data_preparation_for_reconstuction_and_generation/Crown-Only-ITERO/pdf_14c_20220629_102535_ITERO(100016728)/20220629_102535_ITERO(100016728) 4.stl',\n",
       " '/home/shirshak/Teeth_3DS_data_preparation_for_reconstuction_and_generation/Crown-Only-ITERO/pdf_19c_20220627_090412_ITERO(99705333)_0/20220627_090412_ITERO(99705333) 0.stl',\n",
       " '/home/shirshak/Teeth_3DS_data_preparation_for_reconstuction_and_generation/Crown-Only-ITERO/pdf_19c_20220627_094427_ITERO(99778548)_0/20220627_094427_ITERO(99778548) 0.stl',\n",
       " '/home/shirshak/Teeth_3DS_data_preparation_for_reconstuction_and_generation/Crown-Only-ITERO/pdf_2c_20220629_084758_ITERO(100008941)_0/20220629_084758_ITERO(100008941) 0.stl',\n",
       " '/home/shirshak/Teeth_3DS_data_preparation_for_reconstuction_and_generation/Crown-Only-ITERO/pdf_31c_20220628_095036_ITERO(99929357)/20220628_095036_ITERO(99929357) 2.stl',\n",
       " '/home/shirshak/Teeth_3DS_data_preparation_for_reconstuction_and_generation/Crown-Only-ITERO/pdf_3c_20220629_060907_ITERO(99972480)/20220629_060907_ITERO(99972480) 2.stl',\n",
       " '/home/shirshak/Teeth_3DS_data_preparation_for_reconstuction_and_generation/Crown-Only-ITERO/pdf_7c_20220627_080351_ITERO(99760469)_0/20220627_080351_ITERO(99760469) 0.stl']"
      ]
     },
     "execution_count": 9,
     "metadata": {},
     "output_type": "execute_result"
    }
   ],
   "source": [
    "ply_crown_names = sorted(glob(\"/home/shirshak/Teeth_3DS_data_preparation_for_reconstuction_and_generation/Crown-Only-ITERO/*/*\"))\n",
    "ply_crown_names"
   ]
  },
  {
   "cell_type": "code",
   "execution_count": 10,
   "id": "a4c31020",
   "metadata": {},
   "outputs": [
    {
     "name": "stdout",
     "output_type": "stream",
     "text": [
      "/home/shirshak/Teeth_3DS_data_preparation_for_reconstuction_and_generation/outputs-CROWN-ITERO-ANNOTATED/20240711_120128_ITERO(168624533)_0/20240711_120128_ITERO(168624533)_0_shell.pcd\n",
      "/home/shirshak/Teeth_3DS_data_preparation_for_reconstuction_and_generation/outputs-CROWN-ITERO-ANNOTATED/20240715_140451_ITERO(169070716)_0/20240715_140451_ITERO(169070716)_0_shell.pcd\n"
     ]
    },
    {
     "name": "stdout",
     "output_type": "stream",
     "text": [
      "/home/shirshak/Teeth_3DS_data_preparation_for_reconstuction_and_generation/outputs-CROWN-ITERO-ANNOTATED/20240717_111117_ITERO(169443780)_0/20240717_111117_ITERO(169443780)_0_shell.pcd\n",
      "/home/shirshak/Teeth_3DS_data_preparation_for_reconstuction_and_generation/outputs-CROWN-ITERO-ANNOTATED/20240718_130347_ITERO(169494014)_3/20240718_130347_ITERO(169494014)_3_shell.pcd\n",
      "/home/shirshak/Teeth_3DS_data_preparation_for_reconstuction_and_generation/outputs-CROWN-ITERO-ANNOTATED/20240718_131056_ITERO(169483943)_3/20240718_131056_ITERO(169483943)_3_shell.pcd\n",
      "/home/shirshak/Teeth_3DS_data_preparation_for_reconstuction_and_generation/outputs-CROWN-ITERO-ANNOTATED/20240718_132105_ITERO(169622609)_0/20240718_132105_ITERO(169622609)_0_shell.pcd\n",
      "/home/shirshak/Teeth_3DS_data_preparation_for_reconstuction_and_generation/outputs-CROWN-ITERO-ANNOTATED/20241105_111105_ITERO(179977049)/20241105_111105_ITERO(179977049)_shell.pcd\n",
      "/home/shirshak/Teeth_3DS_data_preparation_for_reconstuction_and_generation/outputs-CROWN-ITERO-ANNOTATED/20241106_113904_ITERO(179999810) 3/20241106_113904_ITERO(179999810) 3_shell.pcd\n",
      "/home/shirshak/Teeth_3DS_data_preparation_for_reconstuction_and_generation/outputs-CROWN-ITERO-ANNOTATED/20241122_130636_ITERO(224759614) 3/20241122_130636_ITERO(224759614) 3_shell.pcd\n",
      "/home/shirshak/Teeth_3DS_data_preparation_for_reconstuction_and_generation/outputs-CROWN-ITERO-ANNOTATED/pdf_14c_20220629_102535_ITERO(100016728)/pdf_14c_20220629_102535_ITERO(100016728)_shell.pcd\n",
      "/home/shirshak/Teeth_3DS_data_preparation_for_reconstuction_and_generation/outputs-CROWN-ITERO-ANNOTATED/pdf_19c_20220627_090412_ITERO(99705333)_0/pdf_19c_20220627_090412_ITERO(99705333)_0_shell.pcd\n",
      "/home/shirshak/Teeth_3DS_data_preparation_for_reconstuction_and_generation/outputs-CROWN-ITERO-ANNOTATED/pdf_19c_20220627_094427_ITERO(99778548)_0/pdf_19c_20220627_094427_ITERO(99778548)_0_shell.pcd\n",
      "/home/shirshak/Teeth_3DS_data_preparation_for_reconstuction_and_generation/outputs-CROWN-ITERO-ANNOTATED/pdf_2c_20220629_084758_ITERO(100008941)_0/pdf_2c_20220629_084758_ITERO(100008941)_0_shell.pcd\n",
      "/home/shirshak/Teeth_3DS_data_preparation_for_reconstuction_and_generation/outputs-CROWN-ITERO-ANNOTATED/pdf_31c_20220628_095036_ITERO(99929357)/pdf_31c_20220628_095036_ITERO(99929357)_shell.pcd\n",
      "/home/shirshak/Teeth_3DS_data_preparation_for_reconstuction_and_generation/outputs-CROWN-ITERO-ANNOTATED/pdf_3c_20220629_060907_ITERO(99972480)/pdf_3c_20220629_060907_ITERO(99972480)_shell.pcd\n",
      "/home/shirshak/Teeth_3DS_data_preparation_for_reconstuction_and_generation/outputs-CROWN-ITERO-ANNOTATED/pdf_7c_20220627_080351_ITERO(99760469)_0/pdf_7c_20220627_080351_ITERO(99760469)_0_shell.pcd\n"
     ]
    }
   ],
   "source": [
    "for ply_crown_name in ply_crown_names:\n",
    "    mesh = o3d.io.read_triangle_mesh(ply_crown_name)\n",
    "    crown_pcd, crown_npy = mesh_to_pcd(mesh, num_points=1536)\n",
    "    for ply_dir_name in ply_dir_names: \n",
    "        if ply_crown_name.split(\"/\")[-2] == ply_dir_name.split('/')[-2]:\n",
    "            print(os.path.join(ply_dir_name, ply_crown_name.split('/')[-2] + \"_shell.pcd\"))\n",
    "            o3d.io.write_point_cloud(os.path.join(ply_dir_name, ply_crown_name.split('/')[-2] + \"_shell.pcd\"), crown_pcd)\n",
    "            continue"
   ]
  },
  {
   "cell_type": "code",
   "execution_count": null,
   "id": "55c307d5",
   "metadata": {},
   "outputs": [],
   "source": []
  },
  {
   "cell_type": "code",
   "execution_count": null,
   "id": "c747cc1f",
   "metadata": {},
   "outputs": [],
   "source": []
  },
  {
   "cell_type": "code",
   "execution_count": null,
   "metadata": {},
   "outputs": [],
   "source": []
  },
  {
   "cell_type": "code",
   "execution_count": null,
   "metadata": {},
   "outputs": [],
   "source": []
  }
 ],
 "metadata": {
  "kernelspec": {
   "display_name": ".venv",
   "language": "python",
   "name": "python3"
  },
  "language_info": {
   "codemirror_mode": {
    "name": "ipython",
    "version": 3
   },
   "file_extension": ".py",
   "mimetype": "text/x-python",
   "name": "python",
   "nbconvert_exporter": "python",
   "pygments_lexer": "ipython3",
   "version": "3.10.12"
  }
 },
 "nbformat": 4,
 "nbformat_minor": 5
}
