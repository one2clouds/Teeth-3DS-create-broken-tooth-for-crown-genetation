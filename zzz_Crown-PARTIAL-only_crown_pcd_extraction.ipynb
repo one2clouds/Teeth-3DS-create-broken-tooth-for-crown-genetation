{
 "cells": [
  {
   "cell_type": "code",
   "execution_count": null,
   "id": "11f99583",
   "metadata": {},
   "outputs": [],
   "source": []
  },
  {
   "cell_type": "code",
   "execution_count": null,
   "id": "1b590145",
   "metadata": {},
   "outputs": [],
   "source": []
  },
  {
   "cell_type": "code",
   "execution_count": null,
   "metadata": {},
   "outputs": [],
   "source": []
  }
 ],
 "metadata": {
  "language_info": {
   "name": "python"
  }
 },
 "nbformat": 4,
 "nbformat_minor": 5
}
